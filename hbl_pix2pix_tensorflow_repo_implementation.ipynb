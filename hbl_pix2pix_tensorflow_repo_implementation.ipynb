{
  "nbformat": 4,
  "nbformat_minor": 0,
  "metadata": {
    "colab": {
      "name": "hbl_pix2pix_tensorflow_repo_implementation.ipynb",
      "version": "0.3.2",
      "provenance": []
    },
    "kernelspec": {
      "name": "python3",
      "display_name": "Python 3"
    },
    "accelerator": "GPU"
  },
  "cells": [
    {
      "cell_type": "markdown",
      "metadata": {
        "id": "OhU3gCFyZitb",
        "colab_type": "text"
      },
      "source": [
        "Get the repository"
      ]
    },
    {
      "cell_type": "code",
      "metadata": {
        "id": "5oxNexQG3i_0",
        "colab_type": "code",
        "outputId": "8687e36d-d6b1-4c60-8190-6330b747c32f",
        "colab": {
          "base_uri": "https://localhost:8080/",
          "height": 34
        }
      },
      "source": [
        "!git clone https://github.com/ecovirtual/pix2pix-tensorflow.git"
      ],
      "execution_count": 2,
      "outputs": [
        {
          "output_type": "stream",
          "text": [
            "fatal: destination path 'pix2pix-tensorflow' already exists and is not an empty directory.\n"
          ],
          "name": "stdout"
        }
      ]
    },
    {
      "cell_type": "code",
      "metadata": {
        "id": "scB5ikqeZs8F",
        "colab_type": "code",
        "colab": {}
      },
      "source": [
        "# Get Dataset\n",
        "import os\n",
        "\n",
        "dataset_path = os.path.join(os.path.directory())\n",
        "# _URL = ''\n",
        "# _DIR = ''\n",
        "\n",
        "# path_to_dataset = tf.keras.utils.get_file('facades.tar.gz',\n",
        "#                                      origin=_URL,\n",
        "#                                      extract=True)\n",
        "\n",
        "# PATH = os.path.join(os.path.dirname(path_to_dataset), 'facades/')"
      ],
      "execution_count": 0,
      "outputs": []
    }
  ]
}